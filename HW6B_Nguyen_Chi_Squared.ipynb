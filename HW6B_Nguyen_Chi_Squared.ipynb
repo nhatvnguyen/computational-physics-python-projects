{
  "nbformat": 4,
  "nbformat_minor": 0,
  "metadata": {
    "colab": {
      "provenance": [],
      "mount_file_id": "1Nm4xV8Im_5vhkZX20l5WTz7Dmtum3_io",
      "authorship_tag": "ABX9TyP/7pHaAAvGdP/5ml50yHsy",
      "include_colab_link": true
    },
    "kernelspec": {
      "name": "python3",
      "display_name": "Python 3"
    },
    "language_info": {
      "name": "python"
    }
  },
  "cells": [
    {
      "cell_type": "markdown",
      "metadata": {
        "id": "view-in-github",
        "colab_type": "text"
      },
      "source": [
        "<a href=\"https://colab.research.google.com/github/nhatvnguyen/computational-physics-python-projects/blob/main/HW6B_Nguyen_Chi_Squared.ipynb\" target=\"_parent\"><img src=\"https://colab.research.google.com/assets/colab-badge.svg\" alt=\"Open In Colab\"/></a>"
      ]
    },
    {
      "cell_type": "markdown",
      "source": [
        "## Nhat Nguyen\n",
        "### Computational Physics, PHYS 421\n",
        "#### HW6, due: 11/17, 10 am"
      ],
      "metadata": {
        "id": "h0Xv30gMROgB"
      }
    },
    {
      "cell_type": "markdown",
      "source": [
        "3) Finish the exercise started in class (model fitting notebook).\n",
        "\n",
        "(a) Calculate square residuals (scaled chi squared) for the student g values.\n",
        "\n",
        "(b) Plot the scaled chi squared as a function of your model parameter (best-fit g).\n",
        "\n",
        "(c) Find the best fit parameter by minimizing chi squared. Compare this to the mean of the sample.\n",
        "\n",
        "$\\chi^2 = \\sum \\frac{\\left(y_i - \\lambda(x_i; \\, \\theta)\\right)^2}{\\sigma_i^2}$"
      ],
      "metadata": {
        "id": "2t9csnm_DVW4"
      }
    },
    {
      "cell_type": "code",
      "execution_count": null,
      "metadata": {
        "colab": {
          "base_uri": "https://localhost:8080/"
        },
        "id": "H-lRdUnFRHhD",
        "outputId": "bbd34300-9003-42de-a082-cbb7874a13db"
      },
      "outputs": [
        {
          "output_type": "stream",
          "name": "stdout",
          "text": [
            "[ 9.63  9.72  9.66  9.86  9.67  9.72  9.85  9.79  9.73  9.72  9.72  9.75\n",
            "  9.75  9.75  9.71  9.73  9.68  9.75  9.71  9.64  9.74  9.73  9.77  9.78\n",
            "  9.39  9.78  9.75  9.68  9.44  9.71  9.82  9.7   9.72  9.74  9.82  9.18\n",
            "  9.81  9.7   9.9   9.78  9.63  9.73  9.85  9.89  9.61  9.57  9.83  9.7\n",
            "  9.72  9.6   9.65  9.68  9.37  9.6   9.75  9.76  9.7   9.63  9.69  9.77\n",
            "  9.72  9.85  9.72  9.22  9.56  9.72  9.84  9.67  9.69  9.78  9.73  9.7\n",
            "  9.6   9.62  9.69  9.7   9.74  9.66  9.67  9.73  9.76  9.78  9.24  9.84\n",
            "  9.63  9.75  9.72  9.71  9.82  9.73  9.77  9.66  9.77  9.7   9.19  9.73\n",
            "  9.77  9.98  9.64  9.79  9.67  9.74  9.73  9.77  9.74  9.93  9.74  9.82\n",
            "  9.72  9.73  9.71  9.71  9.74  9.74  9.63  9.73  9.69  9.73  9.77  9.8\n",
            "  9.75  9.61  9.7   9.57  9.79  9.74  9.53  9.76  8.57  9.69  9.76  9.79\n",
            "  9.72  9.73  9.75  9.69  9.37  9.63  9.74  9.75  9.74  9.75  9.69  9.71\n",
            "  9.74  9.77  9.62  9.36  9.73  9.76  9.69  9.7   9.79  9.7   9.73  9.73\n",
            "  9.68  9.58  9.77 11.8   9.75  9.92  9.82  9.71  9.64  9.76  9.71  9.65\n",
            "  9.82  9.75  9.54  9.75  9.79  9.74  9.97  9.71  9.68  9.86  9.55  9.72\n",
            "  9.77  9.57  9.74  9.76  9.83  9.84  9.71  9.71  9.73  9.45  9.78  9.59\n",
            "  9.57  9.68  9.79  9.73  9.75  9.75  9.64  9.63  9.64  9.76  9.76  9.77\n",
            "  9.74  9.67  9.86  9.7   9.79 10.2   9.83  9.89  9.82 10.1   9.71  9.8\n",
            "  9.69  9.75  9.78  9.74  9.5   9.74  9.8   9.79  9.63  9.72  9.7   9.78\n",
            "  9.68  9.75  9.82  9.72  9.77  9.54  9.82  9.71  9.72  9.7   9.73  9.76\n",
            "  9.14  9.72  9.69 10.3   9.68  9.75  9.57  8.98  9.8   9.74  9.24  9.87\n",
            "  9.78  9.71  9.64  9.78  9.83  9.73  9.78  9.78  9.74  9.75  9.41  9.7\n",
            "  9.74  9.78  9.71  9.66  9.56  9.81  9.7   9.73  9.73  9.6   9.71  9.75\n",
            "  9.88  9.64  9.66  9.76  9.49  9.64  9.74  9.67  9.8   8.79  9.72  9.73\n",
            "  9.56  9.73  9.72  9.66  9.01  9.69  9.7   9.78  9.8   9.76  9.76  9.68\n",
            "  9.93  9.7   9.68  9.67  9.6   9.67  9.75  9.74  9.73  9.75  9.64  9.73\n",
            "  9.69  9.75  9.77  9.72  9.66  9.79  9.84  9.68  9.75  9.77  9.69  8.7\n",
            "  9.73  9.7   9.71  9.75  9.69  9.7   9.86  9.71  9.83  9.76  9.74  9.67]\n"
          ]
        }
      ],
      "source": [
        "import numpy as np\n",
        "import matplotlib.pyplot as plt\n",
        "\n",
        "\n",
        "\n",
        "# import student g values\n",
        "\n",
        "import numpy as np\n",
        "import matplotlib.pyplot as plt\n",
        "from astropy.io import ascii\n",
        "\n",
        "g_data = ascii.read('/content/drive/MyDrive/Colab Notebooks/PHYS421_Computational Physics/HW/student_g_values.txt')\n",
        "g_array = np.array([g_data[c] for c in g_data.columns])\n",
        "g_only = g_array[3:,:]\n",
        "g = g_only.flatten()\n",
        "g = np.array(g, float)\n",
        "print(g)"
      ]
    },
    {
      "cell_type": "code",
      "source": [
        "# function to calculate chi squared for a given model parameter\n",
        "# how far apart our data {yi}\n",
        "# predictions of what the values should be, λ(xi; θ)\n",
        "# certain positions in x {xi}\n",
        "# certain model parameters θ.\n",
        "# uncertainty for each data point, σi.\n",
        "\n",
        "def chi_squared(y, theta, sigma):\n",
        "  \"\"\"\n",
        "  This function performs chi_square calculations to obtain chi_squared values from each theta points\n",
        "\n",
        "  Args\n",
        "  y: numpy array, how far apart our data\n",
        "  theta: numpy array, certain model parameters\n",
        "  sigma: float, uncertainty of the data points, this is the same for homoscedastic data\n",
        "\n",
        "  Return\n",
        "  chi_squared: numpy array, values of chi_squared\n",
        "  \"\"\"\n",
        "\n",
        "  chi_squared = np.empty(len(theta)) # ask Dr. Syphers how to do this without append\n",
        "  # chi_squared = np.ones(len(chi_points))\n",
        "  for i in range(0, len(theta)):\n",
        "    chi_points = ((g-theta[i])**2)/(sigma**2) # filling zeros array with calculations\n",
        "\n",
        "    chi_squared[i] = np.sum(chi_points)  # append the sum of chi_points array into chi_squared\n",
        "    i += 1\n",
        "\n",
        "  return chi_squared"
      ],
      "metadata": {
        "id": "DKRbj1pAWALJ"
      },
      "execution_count": null,
      "outputs": []
    },
    {
      "cell_type": "code",
      "source": [
        "chi_points = np.zeros(len(theta))\n",
        "# chi_squared = np.empty(0)\n",
        "chi_sqr = np.zeros(len(theta))\n",
        "for j in range(0,len(theta)):\n",
        "  for i in range(0,len(theta)):\n",
        "    chi_points[i] = ((g[i]-theta[j])**2)/(sigma**2) # filling zeros array with calculations\n",
        "    i += 1\n",
        "\n",
        "  chi_sqr[j] = np.sum(chi_points)  # sum of chi_points array into chi_squared\n",
        "  j += 1"
      ],
      "metadata": {
        "id": "bjaSpJSR_rMZ"
      },
      "execution_count": null,
      "outputs": []
    },
    {
      "cell_type": "code",
      "source": [
        "from astropy.units.format.latex import Latex\n",
        "std_data = np.std(g)                                         # find standard deviation\n",
        "mean_data = np.mean(g)                                       # find mean\n",
        "lower_outlier = mean_data - std_data                         # find lower bound\n",
        "upper_outlier = mean_data + std_data                         # find upper bound\n",
        "sigma = std_data/(np.sqrt(len(g)))                           # same uncertainty on the mean for the Homoscedastic data set\n",
        "# theta = np.linspace(lower_outlier, upper_outlier,num=len(g)) # set theta parameter as a linear increase within the bounds\n",
        "theta = np.arange(9.5,9.95,0.05)\n",
        "# chi_sqr = chi_squared(g, theta, sigma)                       # find chi_sqr from the function defined\n",
        "\n",
        "chi_points = np.zeros(len(theta))\n",
        "# chi_squared = np.empty(0)\n",
        "chi_sqr = np.zeros(len(theta))\n",
        "for j in range(0,len(theta)):\n",
        "  for i in range(0,len(theta)):\n",
        "    chi_points[i] = ((g[i]-theta[j])**2)/(sigma**2) # filling zeros array with calculations\n",
        "    i += 1\n",
        "\n",
        "  chi_sqr[j] = np.sum(chi_points)  # sum of chi_points array into chi_squared\n",
        "  j += 1\n",
        "\n",
        "\n",
        "plt.plot(theta, chi_sqr)\n",
        "plt.plot(theta[np.argmin(chi_sqr)],np.amin(chi_sqr), 'ro', label=\"Mininum point\")\n",
        "plt.legend()\n",
        "plt.grid()\n",
        "plt.title(\"Fit optimization test\")\n",
        "plt.xlabel(\"$\\Theta$\")\n",
        "plt.ylabel(\"$\\chi^2$\")\n",
        "\n",
        "index = np.argmin(chi_sqr)\n",
        "print(\"Minimum value of chi^2: {:.5f} \".format(np.amin(chi_sqr)))\n",
        "print(\"Best fit Theta: {:.5f}\".format(theta[index]))\n",
        "print(\"Mean of the Data: {:.5f}\".format(mean_data))\n",
        "print(\"--> The theta value from the fit test was very close to the mean\")\n",
        "\n"
      ],
      "metadata": {
        "id": "L3_bzZWQbXE3",
        "colab": {
          "base_uri": "https://localhost:8080/",
          "height": 371
        },
        "outputId": "eece2ec0-1af1-42bb-fbee-2a7c6479742a"
      },
      "execution_count": null,
      "outputs": [
        {
          "output_type": "stream",
          "name": "stdout",
          "text": [
            "Minimum value of chi^2: 462.05123 \n",
            "Best fit Theta: 9.75000\n",
            "Mean of the Data: 9.70765\n",
            "--> The theta value from the fit test was very close to the mean\n"
          ]
        },
        {
          "output_type": "display_data",
          "data": {
            "text/plain": [
              "<Figure size 432x288 with 1 Axes>"
            ],
            "image/png": "[encoded data removed]"
          },
          "metadata": {
            "needs_background": "light"
          }
        }
      ]
    },
    {
      "cell_type": "code",
      "source": [
        "from astropy.units.format.latex import Latex\n",
        "std_data = np.std(g)                                         # find standard deviation\n",
        "mean_data = np.mean(g)                                       # find mean\n",
        "lower_outlier = mean_data - std_data                         # find lower bound\n",
        "upper_outlier = mean_data + std_data                         # find upper bound\n",
        "sigma = std_data/(np.sqrt(len(g)))                           # same uncertainty on the mean for the Homoscedastic data set\n",
        "# theta = np.linspace(lower_outlier, upper_outlier,num=len(g)) # set theta parameter as a linear increase within the bounds\n",
        "theta = np.arange(9.5,9.95,0.05)\n",
        "chi_sqr = chi_squared(g, theta, sigma)                       # find chi_sqr from the function defined\n",
        "\n",
        "# chi_points = np.zeros(len(theta))\n",
        "# chi_squared = np.empty(0)\n",
        "# chi_sqr = np.zeros(len(theta))\n",
        "# for j in range(0,len(theta)):\n",
        "#   for i in range(0,len(theta)):\n",
        "#     chi_points[i] = ((g[i]-theta[j])**2)/(sigma**2) # filling zeros array with calculations\n",
        "#     i += 1\n",
        "\n",
        "#   chi_sqr[j] = np.sum(chi_points)  # sum of chi_points array into chi_squared\n",
        "#   j += 1\n",
        "\n",
        "\n",
        "plt.plot(theta, chi_sqr)\n",
        "plt.plot(theta[np.argmin(chi_sqr)],np.amin(chi_sqr), 'ro', label=\"Mininum point\")\n",
        "plt.legend()\n",
        "plt.grid()\n",
        "plt.title(\"Fit optimization test\")\n",
        "plt.xlabel(\"$\\Theta$\")\n",
        "plt.ylabel(\"$\\chi^2$\")\n",
        "\n",
        "index = np.argmin(chi_sqr)\n",
        "print(\"Minimum value of chi^2: {:.5f} \".format(np.amin(chi_sqr)))\n",
        "print(\"Best fit Theta: {:.5f}\".format(theta[index]))\n",
        "print(\"Mean of the Data: {:.5f}\".format(mean_data))\n",
        "print(\"--> The theta value from the fit test was very close to the mean\")\n",
        "\n"
      ],
      "metadata": {
        "colab": {
          "base_uri": "https://localhost:8080/",
          "height": 366
        },
        "id": "CSidagr7sRi4",
        "outputId": "b1478d0a-2135-407c-b92e-e0ce6557f955"
      },
      "execution_count": null,
      "outputs": [
        {
          "output_type": "stream",
          "name": "stdout",
          "text": [
            "Minimum value of chi^2: 113061.74351 \n",
            "Best fit Theta: 9.70000\n",
            "Mean of the Data: 9.70765\n",
            "--> The theta value from the fit test was very close to the mean\n"
          ]
        },
        {
          "output_type": "display_data",
          "data": {
            "text/plain": [
              "<Figure size 432x288 with 1 Axes>"
            ],
            "image/png": "[encoded data removed]"
          },
          "metadata": {
            "needs_background": "light"
          }
        }
      ]
    },
    {
      "cell_type": "code",
      "source": [
        "print(chi_points)\n",
        "print(chi_sqr)"
      ],
      "metadata": {
        "colab": {
          "base_uri": "https://localhost:8080/"
        },
        "id": "7aaWzF6hAM6z",
        "outputId": "b8f1fb33-0916-4c4e-b2b2-b88252592d33"
      },
      "execution_count": null,
      "outputs": [
        {
          "output_type": "stream",
          "name": "stdout",
          "text": [
            "[614.66303999 273.18357333 485.65968592  13.49054683 446.0312046\n",
            " 273.18357333  21.07897942 102.02226041 243.67300214]\n",
            "[4698.92609308 3092.70786101 1865.91125857 1018.53628574  550.58294254\n",
            "  462.05122896  752.94114501 1423.25269067 2472.98586596]\n"
          ]
        }
      ]
    }
  ]
}